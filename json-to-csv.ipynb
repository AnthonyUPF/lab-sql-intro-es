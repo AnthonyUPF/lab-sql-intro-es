{
 "cells": [
  {
   "cell_type": "code",
   "execution_count": 1,
   "id": "0eb0fa80-4c8b-4bfa-9086-85719d04d817",
   "metadata": {},
   "outputs": [],
   "source": [
    "import pandas as pd\n",
    "\n",
    "# Cargar datos desde el archivo JSON\n",
    "data = pd.read_json(\"311_Service_Requests.json\")\n",
    "\n",
    "# Guardar los datos en un archivo CSV\n",
    "data.to_csv(\"311_Service_Requests.csv\", index=False)"
   ]
  },
  {
   "cell_type": "code",
   "execution_count": null,
   "id": "7c98669b-99ee-4da8-aca3-cd7d52cac622",
   "metadata": {},
   "outputs": [],
   "source": []
  }
 ],
 "metadata": {
  "kernelspec": {
   "display_name": "Python 3 (ipykernel)",
   "language": "python",
   "name": "python3"
  },
  "language_info": {
   "codemirror_mode": {
    "name": "ipython",
    "version": 3
   },
   "file_extension": ".py",
   "mimetype": "text/x-python",
   "name": "python",
   "nbconvert_exporter": "python",
   "pygments_lexer": "ipython3",
   "version": "3.10.12"
  }
 },
 "nbformat": 4,
 "nbformat_minor": 5
}
